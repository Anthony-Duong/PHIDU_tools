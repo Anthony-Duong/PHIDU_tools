{
 "cells": [
  {
   "cell_type": "markdown",
   "metadata": {},
   "source": [
    "# Using Machine Learning to Predict Factors of Vulnerable Developmental Domains\n",
    "Using the PHIDU data to train and test various machine learning algorithms to create a model to predict likely hood of vulnerability in developmental domains in the AEDC "
   ]
  },
  {
   "cell_type": "markdown",
   "metadata": {},
   "source": [
    "## Demographic\n",
    "It is important to establish the demographic breakdown of the people in our area so that we are aware and can target the analysis towards these people"
   ]
  },
  {
   "cell_type": "code",
   "execution_count": null,
   "metadata": {
    "vscode": {
     "languageId": "plaintext"
    }
   },
   "outputs": [],
   "source": []
  },
  {
   "cell_type": "markdown",
   "metadata": {},
   "source": [
    "#"
   ]
  }
 ],
 "metadata": {
  "language_info": {
   "name": "python"
  }
 },
 "nbformat": 4,
 "nbformat_minor": 2
}
